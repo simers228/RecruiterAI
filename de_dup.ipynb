{
 "cells": [
  {
   "cell_type": "code",
   "execution_count": 11,
   "metadata": {},
   "outputs": [],
   "source": [
    "profile_list = ['dalton-m-newbanks', 'dalton-m-newbanks', 'steven-jones-1614341b6', 'steven-jones-1614341b6', 'sean-donnelly-3a36b5176', \n",
    "        'sean-donnelly-3a36b5176', 'charlie-schroeder-2931918a', 'charlie-schroeder-2931918a', 'brookbehlen', 'brookbehlen', \n",
    "        'erick-tinajero-a9a616150', 'erick-tinajero-a9a616150', 'eric-mauch-ba269a102', 'eric-mauch-ba269a102', 'rick-vandenberg-a70496b0', \n",
    "        'rick-vandenberg-a70496b0', 'ben-hruban-b18b51b6', 'ben-hruban-b18b51b6', 'cory-koll-1332ab21b', 'cory-koll-1332ab21b', \n",
    "        'brad-myers-7b218a87', 'brad-myers-7b218a87', 'logan-ridgway-pe-04335b111', 'logan-ridgway-pe-04335b111', 'jackson-koch-b91925203', \n",
    "        'jackson-koch-b91925203', 'stuart-mohl-5642a4119', 'stuart-mohl-5642a4119', 'cassie-long-a28624112', 'cassie-long-a28624112', \n",
    "        'anthony-f-813253127', 'anthony-f-813253127', 'lane-godfrey-a5473414b', 'lane-godfrey-a5473414b', 'david-kaltenberger-467358b5', \n",
    "        'david-kaltenberger-467358b5', 'smith2', 'smith2', 'kyle-perkins-832602249', 'kyle-perkins-832602249', \n",
    "        'jake-kulhanek-a591a057', 'jake-kulhanek-a591a057', 'tiaharter', 'tiaharter', 'kyle-sandy-24139850', \n",
    "        'kyle-sandy-24139850', 'derrick-hensel-0886996a', 'derrick-hensel-0886996a', 'brent-r-a583613b', 'brent-r-a583613b', \n",
    "        'rick-fleming-4b298b23', 'rick-fleming-4b298b23', 'weihsconnor', 'weihsconnor', 'travis-lucas-shrm-cp-687b0324', \n",
    "        'travis-lucas-shrm-cp-687b0324', 'andrew-cheever-808313159', 'andrew-cheever-808313159', 'kendal-fuller-4998b797', 'kendal-fuller-4998b797', \n",
    "        'cyndi-bouc-cdt-5260b415', 'cyndi-bouc-cdt-5260b415', 'connor-pudenz-8302a111b', 'connor-pudenz-8302a111b', 'troydelka', \n",
    "        'troydelka', 'adam-streck-196515153', 'adam-streck-196515153', 'nate-buss-9851901b', 'nate-buss-9851901b', \n",
    "        'shane-rothchild-a18610106', 'shane-rothchild-a18610106', 'kasey-townsend-519279206', 'kasey-townsend-519279206', 'brian-anderson-94993a66', \n",
    "        'brian-anderson-94993a66', 'nolan-gottsch-a95251180', 'nolan-gottsch-a95251180', 'dominic-kerns-54898a149', 'dominic-kerns-54898a149', \n",
    "        'kent-hazzard-05ba163b', 'kent-hazzard-05ba163b', 'adam-stonebarger-64794ba3', 'adam-stonebarger-64794ba3', 'tim-hartman-2ab6131b9', \n",
    "        'tim-hartman-2ab6131b9', 'alex-nydahl-a51411211', 'alex-nydahl-a51411211', 'jacob-buettgenbach-124a0121a', 'jacob-buettgenbach-124a0121a', \n",
    "        'nathan-kastens-53a7141b4', 'nathan-kastens-53a7141b4', 'colin-bailey-a618a622', 'colin-bailey-a618a622', 'andrea-wilkins-aa717b151', \n",
    "        'andrea-wilkins-aa717b151', 'austin-campbell-b15057198', 'austin-campbell-b15057198', 'scott-brunken-a62810154', 'scott-brunken-a62810154', \n",
    "        'chuck-richter-397727130', 'chuck-richter-397727130', 'david-bressman-75975997', 'david-bressman-75975997', 'cole-coffey-98276b256', \n",
    "        'cole-coffey-98276b256', 'joel-fagler-9a57b5122', 'joel-fagler-9a57b5122', 'justin-hall-806112124', 'justin-hall-806112124', \n",
    "        'jarrett-schultze-970137134', 'jarrett-schultze-970137134', 'andrew-rhynalds-8b760360', 'andrew-rhynalds-8b760360', 'faron-riley-82b76288', \n",
    "        'faron-riley-82b76288', 'dan-vokoun-9a070b45', 'dan-vokoun-9a070b45', 'brian-norton-188b70b3', 'brian-norton-188b70b3', \n",
    "        'benjamin-logsdon-eit-b1aab5a0', 'benjamin-logsdon-eit-b1aab5a0', 'jacob-keyser-3589161b7', 'jacob-keyser-3589161b7', \n",
    "        'kathleen-egan-soppe-37053090', 'kathleen-egan-soppe-37053090', 'nick-cammack-836743165', 'nick-cammack-836743165', 'steffany-kobes-91396b203', \n",
    "        'steffany-kobes-91396b203', 'matt-hamik-63566239', 'matt-hamik-63566239', 'jeremy-just-b0003441', 'jeremy-just-b0003441', \n",
    "        'leroy-bell', 'leroy-bell', 'jon-timperley-454a2754', 'jon-timperley-454a2754', 'nathaniel-phelps-2646abb7', 'nathaniel-phelps-2646abb7', \n",
    "        'slade-molt-9518b51b3', 'slade-molt-9518b51b3', 'bruce-niesen-25175814b', 'bruce-niesen-25175814b', 'bob-everitt-6b3ba314', \n",
    "        'bob-everitt-6b3ba314', 'heath-franzen-0a6357b', 'heath-franzen-0a6357b', 'megan-cabeen-30ba7615', 'megan-cabeen-30ba7615', \n",
    "        'nate-hotovy-6365418', 'nate-hotovy-6365418', 'allisonbentley', 'allisonbentley', 'mitchellgoering', \n",
    "        'mitchellgoering', 'derrick-krienert', 'derrick-krienert', 'ACoAAB7e8psBPyZqGNCMhjcksjJYXf28Kgv1a6I', 'sam-neal-89070678', \n",
    "        'sam-neal-89070678', 'alicia-kreatz-473b14b', 'alicia-kreatz-473b14b', 'corey-buck-leed-ap-27508910a', 'corey-buck-leed-ap-27508910a', \n",
    "        'dustin-parish-a0434468', 'dustin-parish-a0434468', 'matt-russell-2b655651', 'matt-russell-2b655651', 'tyler-olson-08168914b', \n",
    "        'tyler-olson-08168914b', 'trevor-walsh-9734a733', 'trevor-walsh-9734a733', 'jessica-florez-909b15a', 'jessica-florez-909b15a', \n",
    "        'ben-huck-0a922623', 'ben-huck-0a922623', 'kevin-sladovnik-12a8a72a', 'kevin-sladovnik-12a8a72a', 'dawson-somerville-a75a92175', \n",
    "        'dawson-somerville-a75a92175', 'slarkins', 'slarkins', 'joe-buelt-68923875', 'joe-buelt-68923875', \n",
    "        'boyd-batterman-52841515', 'boyd-batterman-52841515', 'bryce-luff-6669a9b2', 'bryce-luff-6669a9b2', 'brian-gilmore-702386194', \n",
    "        'brian-gilmore-702386194', 'stuart-johnson-a0532491', 'stuart-johnson-a0532491', 'dustin-jones-a96262191', 'dustin-jones-a96262191', \n",
    "        'kent-jorgensen-22b26939', 'kent-jorgensen-22b26939', 'cori-vokoun-a6782569', 'cori-vokoun-a6782569', 'john-schroeder-3945482b', \n",
    "        'john-schroeder-3945482b', 'dan-baker-4a7ba3174', 'dan-baker-4a7ba3174', 'neil-smith-78bba928', 'neil-smith-78bba928', \n",
    "        'zach-marks-12b602134', 'zach-marks-12b602134', 'j-d-eickbush-53861456', 'j-d-eickbush-53861456', 'bart-may-7a18aa99', \n",
    "        'bart-may-7a18aa99', 'gary-beckard-a0903b158', 'gary-beckard-a0903b158', 'brian-grimes-9262076', 'brian-grimes-9262076', \n",
    "        'kris-mather-12baa59', 'kris-mather-12baa59', 'steve-lucas-1400291aa', 'steve-lucas-1400291aa', 'moses-cummings-a2119211', \n",
    "        'moses-cummings-a2119211', 'nolan-shinn-3a7ab214b', 'nolan-shinn-3a7ab214b', 'jordan-fikar-546709a5', 'jordan-fikar-546709a5', \n",
    "        'mike-miller-b9a1891b8', 'mike-miller-b9a1891b8', 'bruce-zink-2a486058', 'bruce-zink-2a486058', 'shawn-hoelre-30104075', \n",
    "        'shawn-hoelre-30104075', 'moore-brandon-47122715', 'moore-brandon-47122715', 'trevor-walsh-02590b67', 'trevor-walsh-02590b67', \n",
    "        'troy-pfeifer-731a3764', 'troy-pfeifer-731a3764', 'mitch-holt-a07a3340', 'mitch-holt-a07a3340', 'sam-neal-1975786',\n",
    "        'sam-neal-1975786', 'conway-mccormick-51b55214a', 'conway-mccormick-51b55214a', 'archie-arnt-1b947b88', 'archie-arnt-1b947b88', \n",
    "        'john-hoffman-869bb8a', 'john-hoffman-869bb8a', 'paul-andringa-4626196b', 'paul-andringa-4626196b', 'jeff-grote-8ba67289', \n",
    "        'jeff-grote-8ba67289', 'bradley-harris-4b10a047', 'bradley-harris-4b10a047', 'larry-weaver-97297366', 'larry-weaver-97297366', \n",
    "        'chris-catanese-b3143193', 'chris-catanese-b3143193', 'steve-lucas-152888ab', 'steve-lucas-152888ab', 'julie-scheele-09576121', \n",
    "        'julie-scheele-09576121', 'jay-nemec-97074013', 'jay-nemec-97074013', 'seth-littlepoplar-53948b1bb', 'seth-littlepoplar-53948b1bb'\n",
    "        ]"
   ]
  },
  {
   "cell_type": "code",
   "execution_count": 5,
   "metadata": {},
   "outputs": [
    {
     "data": {
      "text/plain": [
       "265"
      ]
     },
     "execution_count": 5,
     "metadata": {},
     "output_type": "execute_result"
    }
   ],
   "source": [
    "len(profile_list)"
   ]
  },
  {
   "cell_type": "code",
   "execution_count": 12,
   "metadata": {},
   "outputs": [],
   "source": [
    "def deduplicate_list(input_list):\n",
    "    return list(set(input_list))"
   ]
  },
  {
   "cell_type": "code",
   "execution_count": 13,
   "metadata": {},
   "outputs": [],
   "source": [
    "deduplicated_list = deduplicate_list(profile_list)"
   ]
  },
  {
   "cell_type": "code",
   "execution_count": 14,
   "metadata": {},
   "outputs": [
    {
     "name": "stdout",
     "output_type": "stream",
     "text": [
      "['charlie-schroeder-2931918a', 'heath-franzen-0a6357b', 'trevor-walsh-9734a733', 'cori-vokoun-a6782569', 'neil-smith-78bba928', 'conway-mccormick-51b55214a', 'jackson-koch-b91925203', 'logan-ridgway-pe-04335b111', 'kathleen-egan-soppe-37053090', 'benjamin-logsdon-eit-b1aab5a0', 'adam-stonebarger-64794ba3', 'kris-mather-12baa59', 'dustin-parish-a0434468', 'eric-mauch-ba269a102', 'smith2', 'sean-donnelly-3a36b5176', 'zach-marks-12b602134', 'alicia-kreatz-473b14b', 'adam-streck-196515153', 'sam-neal-89070678', 'bruce-zink-2a486058', 'cassie-long-a28624112', 'tiaharter', 'erick-tinajero-a9a616150', 'travis-lucas-shrm-cp-687b0324', 'cole-coffey-98276b256', 'brian-grimes-9262076', 'dan-vokoun-9a070b45', 'corey-buck-leed-ap-27508910a', 'stuart-johnson-a0532491', 'dustin-jones-a96262191', 'jacob-keyser-3589161b7', 'larry-weaver-97297366', 'paul-andringa-4626196b', 'brad-myers-7b218a87', 'shane-rothchild-a18610106', 'dominic-kerns-54898a149', 'kent-hazzard-05ba163b', 'david-kaltenberger-467358b5', 'joel-fagler-9a57b5122', 'shawn-hoelre-30104075', 'jake-kulhanek-a591a057', 'tim-hartman-2ab6131b9', 'matt-russell-2b655651', 'kasey-townsend-519279206', 'bryce-luff-6669a9b2', 'jarrett-schultze-970137134', 'mitchellgoering', 'slade-molt-9518b51b3', 'joe-buelt-68923875', 'jordan-fikar-546709a5', 'jon-timperley-454a2754', 'jeremy-just-b0003441', 'lane-godfrey-a5473414b', 'anthony-f-813253127', 'derrick-hensel-0886996a', 'derrick-krienert', 'gary-beckard-a0903b158', 'mike-miller-b9a1891b8', 'bruce-niesen-25175814b', 'bob-everitt-6b3ba314', 'julie-scheele-09576121', 'nick-cammack-836743165', 'weihsconnor', 'nate-hotovy-6365418', 'troydelka', 'jessica-florez-909b15a', 'justin-hall-806112124', 'bart-may-7a18aa99', 'archie-arnt-1b947b88', 'mitch-holt-a07a3340', 'slarkins', 'connor-pudenz-8302a111b', 'kyle-sandy-24139850', 'brian-gilmore-702386194', 'nathan-kastens-53a7141b4', 'chris-catanese-b3143193', 'cory-koll-1332ab21b', 'boyd-batterman-52841515', 'nolan-gottsch-a95251180', 'steffany-kobes-91396b203', 'sam-neal-1975786', 'seth-littlepoplar-53948b1bb', 'steve-lucas-1400291aa', 'dawson-somerville-a75a92175', 'leroy-bell', 'alex-nydahl-a51411211', 'ACoAAB7e8psBPyZqGNCMhjcksjJYXf28Kgv1a6I', 'dalton-m-newbanks', 'brian-anderson-94993a66', 'rick-fleming-4b298b23', 'austin-campbell-b15057198', 'dan-baker-4a7ba3174', 'steven-jones-1614341b6', 'andrea-wilkins-aa717b151', 'kent-jorgensen-22b26939', 'ben-hruban-b18b51b6', 'cyndi-bouc-cdt-5260b415', 'colin-bailey-a618a622', 'troy-pfeifer-731a3764', 'jeff-grote-8ba67289', 'john-hoffman-869bb8a', 'brian-norton-188b70b3', 'scott-brunken-a62810154', 'kendal-fuller-4998b797', 'matt-hamik-63566239', 'david-bressman-75975997', 'faron-riley-82b76288', 'nathaniel-phelps-2646abb7', 'andrew-cheever-808313159', 'ben-huck-0a922623', 'brookbehlen', 'chuck-richter-397727130', 'moses-cummings-a2119211', 'steve-lucas-152888ab', 'jacob-buettgenbach-124a0121a', 'megan-cabeen-30ba7615', 'allisonbentley', 'trevor-walsh-02590b67', 'andrew-rhynalds-8b760360', 'stuart-mohl-5642a4119', 'moore-brandon-47122715', 'nolan-shinn-3a7ab214b', 'john-schroeder-3945482b', 'kevin-sladovnik-12a8a72a', 'kyle-perkins-832602249', 'brent-r-a583613b', 'rick-vandenberg-a70496b0', 'nate-buss-9851901b', 'jay-nemec-97074013', 'bradley-harris-4b10a047', 'tyler-olson-08168914b', 'j-d-eickbush-53861456']\n"
     ]
    }
   ],
   "source": [
    "len(deduplicated_list)\n",
    "print(deduplicated_list)"
   ]
  },
  {
   "cell_type": "code",
   "execution_count": 16,
   "metadata": {},
   "outputs": [
    {
     "name": "stdout",
     "output_type": "stream",
     "text": [
      "['charlie-schroeder-2931918a', 'heath-franzen-0a6357b', 'trevor-walsh-9734a733', 'cori-vokoun-a6782569', 'neil-smith-78bba928', 'conway-mccormick-51b55214a', 'jackson-koch-b91925203', 'logan-ridgway-pe-04335b111', 'kathleen-egan-soppe-37053090', 'benjamin-logsdon-eit-b1aab5a0', 'adam-stonebarger-64794ba3', 'kris-mather-12baa59', 'dustin-parish-a0434468', 'eric-mauch-ba269a102', 'smith2', 'sean-donnelly-3a36b5176', 'zach-marks-12b602134', 'alicia-kreatz-473b14b', 'adam-streck-196515153', 'sam-neal-89070678', 'bruce-zink-2a486058', 'cassie-long-a28624112', 'tiaharter', 'erick-tinajero-a9a616150', 'travis-lucas-shrm-cp-687b0324', 'cole-coffey-98276b256', 'brian-grimes-9262076', 'dan-vokoun-9a070b45', 'corey-buck-leed-ap-27508910a', 'stuart-johnson-a0532491', 'dustin-jones-a96262191', 'jacob-keyser-3589161b7', 'larry-weaver-97297366', 'paul-andringa-4626196b', 'brad-myers-7b218a87', 'shane-rothchild-a18610106', 'dominic-kerns-54898a149', 'kent-hazzard-05ba163b', 'david-kaltenberger-467358b5', 'joel-fagler-9a57b5122', 'shawn-hoelre-30104075', 'jake-kulhanek-a591a057', 'tim-hartman-2ab6131b9', 'matt-russell-2b655651', 'kasey-townsend-519279206', 'bryce-luff-6669a9b2', 'jarrett-schultze-970137134', 'mitchellgoering', 'slade-molt-9518b51b3', 'joe-buelt-68923875', 'jordan-fikar-546709a5', 'jon-timperley-454a2754', 'jeremy-just-b0003441', 'lane-godfrey-a5473414b', 'anthony-f-813253127', 'derrick-hensel-0886996a', 'derrick-krienert', 'gary-beckard-a0903b158', 'mike-miller-b9a1891b8', 'bruce-niesen-25175814b', 'bob-everitt-6b3ba314', 'julie-scheele-09576121', 'nick-cammack-836743165', 'weihsconnor', 'nate-hotovy-6365418', 'troydelka', 'jessica-florez-909b15a', 'justin-hall-806112124', 'bart-may-7a18aa99', 'archie-arnt-1b947b88', 'mitch-holt-a07a3340', 'slarkins', 'connor-pudenz-8302a111b', 'kyle-sandy-24139850', 'brian-gilmore-702386194', 'nathan-kastens-53a7141b4', 'chris-catanese-b3143193', 'cory-koll-1332ab21b', 'boyd-batterman-52841515', 'nolan-gottsch-a95251180', 'steffany-kobes-91396b203', 'sam-neal-1975786', 'seth-littlepoplar-53948b1bb', 'steve-lucas-1400291aa', 'dawson-somerville-a75a92175', 'leroy-bell', 'alex-nydahl-a51411211', 'ACoAAB7e8psBPyZqGNCMhjcksjJYXf28Kgv1a6I', 'dalton-m-newbanks', 'brian-anderson-94993a66', 'rick-fleming-4b298b23', 'austin-campbell-b15057198', 'dan-baker-4a7ba3174', 'steven-jones-1614341b6', 'andrea-wilkins-aa717b151', 'kent-jorgensen-22b26939', 'ben-hruban-b18b51b6', 'cyndi-bouc-cdt-5260b415', 'colin-bailey-a618a622', 'troy-pfeifer-731a3764', 'jeff-grote-8ba67289', 'john-hoffman-869bb8a', 'brian-norton-188b70b3', 'scott-brunken-a62810154', 'kendal-fuller-4998b797', 'matt-hamik-63566239', 'david-bressman-75975997', 'faron-riley-82b76288', 'nathaniel-phelps-2646abb7', 'andrew-cheever-808313159', 'ben-huck-0a922623', 'brookbehlen', 'chuck-richter-397727130', 'moses-cummings-a2119211', 'steve-lucas-152888ab', 'jacob-buettgenbach-124a0121a', 'megan-cabeen-30ba7615', 'allisonbentley', 'trevor-walsh-02590b67', 'andrew-rhynalds-8b760360', 'stuart-mohl-5642a4119', 'moore-brandon-47122715', 'nolan-shinn-3a7ab214b', 'john-schroeder-3945482b', 'kevin-sladovnik-12a8a72a', 'kyle-perkins-832602249', 'brent-r-a583613b', 'rick-vandenberg-a70496b0', 'nate-buss-9851901b', 'jay-nemec-97074013', 'bradley-harris-4b10a047', 'tyler-olson-08168914b', 'j-d-eickbush-53861456']\n"
     ]
    }
   ],
   "source": [
    "import ast\n",
    "with open('company_profiles/sampson_construction.txt', 'r') as file:\n",
    "    content = file.read().strip()\n",
    "    profile_list_test = ast.literal_eval(content)\n",
    "print(profile_list_test)"
   ]
  }
 ],
 "metadata": {
  "kernelspec": {
   "display_name": "Python 3",
   "language": "python",
   "name": "python3"
  },
  "language_info": {
   "codemirror_mode": {
    "name": "ipython",
    "version": 3
   },
   "file_extension": ".py",
   "mimetype": "text/x-python",
   "name": "python",
   "nbconvert_exporter": "python",
   "pygments_lexer": "ipython3",
   "version": "3.8.9"
  },
  "orig_nbformat": 4
 },
 "nbformat": 4,
 "nbformat_minor": 2
}
