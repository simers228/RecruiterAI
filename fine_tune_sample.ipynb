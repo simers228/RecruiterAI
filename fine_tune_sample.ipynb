{
 "cells": [
  {
   "cell_type": "code",
   "execution_count": null,
   "metadata": {},
   "outputs": [],
   "source": [
    "import pandas as pd\n",
    "import data\n",
    "from tqdm.auto import tqdm\n",
    "\n",
    "df = pd.read_json(path_or_buf='data/linkedin_people_profile_2023-04-11T15-01-29.jsonl', lines=True)\n",
    "\n",
    "df"
   ]
  },
  {
   "cell_type": "code",
   "execution_count": null,
   "metadata": {},
   "outputs": [],
   "source": [
    "pd.set_option('display.max_colwidth', None)"
   ]
  },
  {
   "cell_type": "code",
   "execution_count": null,
   "metadata": {},
   "outputs": [],
   "source": [
    "print(df['description'])"
   ]
  },
  {
   "cell_type": "code",
   "execution_count": null,
   "metadata": {},
   "outputs": [],
   "source": [
    "import re\n",
    "def extract_company_name(url):\n",
    "    company_name = re.findall(r'company/(\\w+)', url)\n",
    "    if company_name:\n",
    "        return company_name[0]\n",
    "    return \"\"\n",
    "for index, row in df.iterrows():\n",
    "    for idx, item in enumerate(row['experience']):\n",
    "        company_name = extract_company_name(item['organisation_profile'])\n",
    "        del item['organisation_profile']\n",
    "        \n",
    "        if idx == 0:\n",
    "            item = {'MOST_RECENT_ORGANISATION': company_name, **item}\n",
    "        else:\n",
    "            item['organisation_profile'] = company_name\n",
    "        \n",
    "        row['experience'][idx] = item\n",
    "\n"
   ]
  },
  {
   "cell_type": "code",
   "execution_count": null,
   "metadata": {},
   "outputs": [],
   "source": [
    "import pandas as pd\n",
    "\n",
    "# create a new empty column to store text file contents\n",
    "df['job_description'] = ''\n",
    "\n",
    "# set the starting row\n",
    "current_row = 0\n",
    "\n",
    "# loop over each row and prompt user to enter filename\n",
    "while current_row < len(df):\n",
    "    filename = input(f\"Enter filename for row {current_row}: \")\n",
    "    \n",
    "    # read the contents of the text file and store in DataFrame\n",
    "    with open(filename, 'r') as file:\n",
    "        contents = file.read()\n",
    "        df.at[current_row, 'job_description'] = contents\n",
    "    \n",
    "    # increment the current row\n",
    "    current_row += 1\n"
   ]
  },
  {
   "cell_type": "code",
   "execution_count": null,
   "metadata": {},
   "outputs": [],
   "source": [
    "df"
   ]
  },
  {
   "cell_type": "code",
   "execution_count": null,
   "metadata": {},
   "outputs": [],
   "source": [
    "df.to_csv('my_dataframe.csv', index=False)"
   ]
  }
 ],
 "metadata": {
  "kernelspec": {
   "display_name": "Python 3",
   "language": "python",
   "name": "python3"
  },
  "language_info": {
   "codemirror_mode": {
    "name": "ipython",
    "version": 3
   },
   "file_extension": ".py",
   "mimetype": "text/x-python",
   "name": "python",
   "nbconvert_exporter": "python",
   "pygments_lexer": "ipython3",
   "version": "3.8.9"
  },
  "orig_nbformat": 4
 },
 "nbformat": 4,
 "nbformat_minor": 2
}
